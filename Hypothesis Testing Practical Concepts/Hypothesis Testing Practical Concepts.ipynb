{
 "cells": [
  {
   "cell_type": "markdown",
   "id": "d9b89fed-a717-4554-b011-ce30d0c297e4",
   "metadata": {},
   "source": [
    "# A/B Testing for Business Decision Making\n"
   ]
  },
  {
   "cell_type": "markdown",
   "id": "44d03937-b2e7-4f4f-90e9-4ff3131be028",
   "metadata": {},
   "source": [
    "#### A/B Testing: Comparing proportions to assess business strategies."
   ]
  },
  {
   "cell_type": "markdown",
   "id": "67512d1a-05fa-4bc2-a474-5363e89c5cc6",
   "metadata": {},
   "source": [
    "Example Problem: You are testing two versions of a webpage (A and B) to compare their conversion rates. Webpage A had 2000 visitors with 300 conversions, while Webpage B had 1800 visitors with 330 conversions. Is webpage B significantly better?"
   ]
  },
  {
   "cell_type": "code",
   "execution_count": 80,
   "id": "c8ec6c1b-5868-47ff-80d2-45b79a7a6995",
   "metadata": {},
   "outputs": [],
   "source": [
    "from statsmodels.stats.proportion import proportions_ztest"
   ]
  },
  {
   "cell_type": "code",
   "execution_count": 83,
   "id": "fe0d9121-38cb-4b4f-88ed-7a89a978ea38",
   "metadata": {},
   "outputs": [],
   "source": [
    "success_a, success_b = 300, 330\n",
    "n_a, n_b = 2000, 1800"
   ]
  },
  {
   "cell_type": "code",
   "execution_count": 85,
   "id": "0719fd39-6643-4978-9fff-8aa5cb6ed83a",
   "metadata": {},
   "outputs": [],
   "source": [
    "stat, p_value = proportions_ztest([success_a, success_b], [n_a, n_b])"
   ]
  },
  {
   "cell_type": "code",
   "execution_count": 87,
   "id": "5a534422-c927-4470-a740-c7c8cbc0b621",
   "metadata": {},
   "outputs": [
    {
     "name": "stdout",
     "output_type": "stream",
     "text": [
      "Z-Statistic: -2.76, P-Value: 0.0058\n"
     ]
    }
   ],
   "source": [
    "print(f\"Z-Statistic: {stat:.2f}, P-Value: {p_value:.4f}\")\n"
   ]
  },
  {
   "cell_type": "code",
   "execution_count": 89,
   "id": "4fd4c5dd-10eb-47fd-aeb4-47f3c50ce8e0",
   "metadata": {
    "scrolled": true
   },
   "outputs": [
    {
     "name": "stdout",
     "output_type": "stream",
     "text": [
      "Reject the null hypothesis: Webpage B performs significantly better.\n"
     ]
    }
   ],
   "source": [
    "if p_value < 0.05:\n",
    "    print(\"Reject the null hypothesis: Webpage B performs significantly better.\")\n",
    "else:\n",
    "    print(\"Fail to reject the null hypothesis: No significant difference.\")"
   ]
  },
  {
   "cell_type": "markdown",
   "id": "33a19734-065f-4bfd-b5ee-180e457c987e",
   "metadata": {},
   "source": [
    "# One-Sample t-Test for Mean Comparison\n"
   ]
  },
  {
   "cell_type": "markdown",
   "id": "e75016d4-5663-4711-91ab-edf2f0d7f6d7",
   "metadata": {},
   "source": [
    "#### One-Sample t-Test: Validating claims about a population mean."
   ]
  },
  {
   "cell_type": "markdown",
   "id": "24c86690-5d86-49d5-a48b-4e1d91a7e5b3",
   "metadata": {},
   "source": [
    "Example Problem: Your company claims that the average delivery time for online orders is 30 minutes. A random sample of 50 deliveries has an average time of 32 minutes with a standard deviation of 5 minutes. Is the claim accurate?"
   ]
  },
  {
   "cell_type": "code",
   "execution_count": 93,
   "id": "082843ff-07db-4b3d-b557-8751852be631",
   "metadata": {},
   "outputs": [],
   "source": [
    "from scipy.stats import ttest_1samp\n",
    "import numpy as np"
   ]
  },
  {
   "cell_type": "code",
   "execution_count": 95,
   "id": "d69b4a11-4219-496e-86e0-cda54bac66c3",
   "metadata": {},
   "outputs": [],
   "source": [
    "sames_times = np.random.normal(32,5,50)\n",
    "population_mean = 30"
   ]
  },
  {
   "cell_type": "code",
   "execution_count": 99,
   "id": "6349eafb-cdb2-4b10-9435-5a71c023a9c7",
   "metadata": {},
   "outputs": [
    {
     "name": "stdout",
     "output_type": "stream",
     "text": [
      "T-Statistic: 4.79, P-Value: 0.0000\n"
     ]
    }
   ],
   "source": [
    "stat, p_value = ttest_1samp(sames_times, population_mean)\n",
    "print(f\"T-Statistic: {stat:.2f}, P-Value: {p_value:.4f}\")\n"
   ]
  },
  {
   "cell_type": "code",
   "execution_count": 101,
   "id": "947f56db-ab04-4128-a01f-d6fa6283e06c",
   "metadata": {},
   "outputs": [
    {
     "name": "stdout",
     "output_type": "stream",
     "text": [
      "Reject the null hypothesis: The average delivery time is not 30 minutes.\n"
     ]
    }
   ],
   "source": [
    "if p_value < 0.05:\n",
    "    print(\"Reject the null hypothesis: The average delivery time is not 30 minutes.\")\n",
    "else:\n",
    "    print(\"Fail to reject the null hypothesis: The average delivery time is 30 minutes.\")"
   ]
  },
  {
   "cell_type": "markdown",
   "id": "84fbcaab-cea7-4e7f-a18f-5d953ec732e1",
   "metadata": {},
   "source": [
    "# Two-Sample t-Test for Comparing Means\n"
   ]
  },
  {
   "cell_type": "markdown",
   "id": "9a62fc35-91f1-40a0-85dc-e98d49c620a3",
   "metadata": {},
   "source": [
    "#### Two-Sample t-Test: Comparing means between two independent groups."
   ]
  },
  {
   "cell_type": "markdown",
   "id": "b7532940-b64d-401a-9a14-a9e2a814d6a6",
   "metadata": {},
   "source": [
    "Example Problem: You want to compare the average sales of two stores (Store A and Store B). Store A’s sales data has a mean of $5000 with a standard deviation of $700 (50 observations), while Store B’s sales data has a mean of $5200 with a standard deviation of $750 (45 observations). Are the sales significantly different?"
   ]
  },
  {
   "cell_type": "code",
   "execution_count": 108,
   "id": "d889dc60-df84-4348-90e5-f011e069adb9",
   "metadata": {},
   "outputs": [],
   "source": [
    "from scipy.stats import ttest_ind"
   ]
  },
  {
   "cell_type": "code",
   "execution_count": 110,
   "id": "25b9facd-77ad-4842-9f98-2404e815162d",
   "metadata": {},
   "outputs": [],
   "source": [
    "# sample data\n",
    "mean_a, std_a, n_a = 5000, 700, 50\n",
    "mean_b, std_b, n_b = 5200, 750, 45"
   ]
  },
  {
   "cell_type": "code",
   "execution_count": 112,
   "id": "94a8c2e9-d3bc-4bae-b1d0-5b060b49e884",
   "metadata": {},
   "outputs": [],
   "source": [
    "np.random.seed(42)\n",
    "sales_a = np.random.normal(mean_a, std_a, n_a)\n",
    "sales_b = np.random.normal(mean_b, std_b, n_b)"
   ]
  },
  {
   "cell_type": "code",
   "execution_count": 116,
   "id": "a85157f7-ee44-4bfd-842f-a51504188c4a",
   "metadata": {},
   "outputs": [
    {
     "name": "stdout",
     "output_type": "stream",
     "text": [
      "T-Statistic: -2.88, P-Value: 0.0049\n"
     ]
    }
   ],
   "source": [
    "stat, p_value = ttest_ind(sales_a, sales_b)\n",
    "\n",
    "print(f\"T-Statistic: {stat:.2f}, P-Value: {p_value:.4f}\")\n"
   ]
  },
  {
   "cell_type": "code",
   "execution_count": 120,
   "id": "7313b71f-e128-4d7e-9005-24cb75dc4e86",
   "metadata": {},
   "outputs": [
    {
     "name": "stdout",
     "output_type": "stream",
     "text": [
      "Reject the null hypothesis: The average sales are significantly different.\n"
     ]
    }
   ],
   "source": [
    "if p_value < 0.05:\n",
    "    print(\"Reject the null hypothesis: The average sales are significantly different.\")\n",
    "else:\n",
    "    print(\"Fail to reject the null hypothesis: No significant difference in sales.\")"
   ]
  },
  {
   "cell_type": "markdown",
   "id": "2b3a974b-17d7-41a4-a61b-c5f8014feb9a",
   "metadata": {},
   "source": [
    "# Chi-Square Test for Independence\n"
   ]
  },
  {
   "cell_type": "markdown",
   "id": "3dc9fba3-ed68-4b0a-af6b-6100850e3a50",
   "metadata": {},
   "source": [
    "#### Chi-Square Test: Assessing associations between categorical variables."
   ]
  },
  {
   "cell_type": "markdown",
   "id": "7e911dbb-7ca3-4272-b771-1002f49dbefd",
   "metadata": {},
   "source": [
    "Example Problem: You are analyzing customer preferences based on two variables: Gender (Male/Female) and Preferred Product (Product A/Product B). Is there a significant association between gender and product preference?"
   ]
  },
  {
   "cell_type": "code",
   "execution_count": 124,
   "id": "6a22dd32-9511-4c0b-972d-eaca8656695a",
   "metadata": {},
   "outputs": [],
   "source": [
    "from scipy.stats import chi2_contingency\n",
    "import pandas as pd"
   ]
  },
  {
   "cell_type": "code",
   "execution_count": 126,
   "id": "d308f073-3423-406c-82d9-a9b66265f618",
   "metadata": {},
   "outputs": [],
   "source": [
    "# contingency table\n",
    "data = {'Product A': [50, 60], 'Product B': [30, 40]}\n",
    "df = pd.DataFrame(data, index=['Male', 'Female'])"
   ]
  },
  {
   "cell_type": "code",
   "execution_count": 132,
   "id": "347bc359-2dcd-4db0-bf04-57297d72a732",
   "metadata": {},
   "outputs": [],
   "source": [
    "stat, p_value, dof, expected = chi2_contingency(df)"
   ]
  },
  {
   "cell_type": "code",
   "execution_count": 134,
   "id": "6a95216f-4cad-455b-b018-a10a366da7e5",
   "metadata": {},
   "outputs": [
    {
     "name": "stdout",
     "output_type": "stream",
     "text": [
      "Chi-Square Statistic: 0.04, P-Value: 0.8508\n"
     ]
    }
   ],
   "source": [
    "print(f\"Chi-Square Statistic: {stat:.2f}, P-Value: {p_value:.4f}\")\n"
   ]
  },
  {
   "cell_type": "code",
   "execution_count": 136,
   "id": "9019b151-01c7-461d-8fa2-04cf65328f31",
   "metadata": {},
   "outputs": [
    {
     "name": "stdout",
     "output_type": "stream",
     "text": [
      "Fail to reject the null hypothesis: No significant association.\n"
     ]
    }
   ],
   "source": [
    "if p_value < 0.05:\n",
    "    print(\"Reject the null hypothesis: Gender and product preference are associated.\")\n",
    "else:\n",
    "    print(\"Fail to reject the null hypothesis: No significant association.\")"
   ]
  },
  {
   "cell_type": "markdown",
   "id": "24ae1f4d-c5a8-4b72-a2ce-c7147f62842f",
   "metadata": {},
   "source": [
    "# ANOVA for Comparing Multiple Groups\n"
   ]
  },
  {
   "cell_type": "markdown",
   "id": "408dafe3-fabf-4703-849a-2f4afa548665",
   "metadata": {},
   "source": [
    "#### ANOVA: Comparing means across multiple groups.\n"
   ]
  },
  {
   "cell_type": "markdown",
   "id": "14d360f4-d38f-4f1b-9bfe-7ab557d0607b",
   "metadata": {},
   "source": [
    "Example Problem: You are comparing the average monthly sales of three regions (North, South, and West). Generate sales data and check if there is a significant difference in sales across regions."
   ]
  },
  {
   "cell_type": "code",
   "execution_count": 147,
   "id": "e5f900a1-5e6d-4b26-82d2-b3368ea3bc07",
   "metadata": {},
   "outputs": [],
   "source": [
    "from scipy.stats import f_oneway"
   ]
  },
  {
   "cell_type": "code",
   "execution_count": 149,
   "id": "3e89b3be-ea0c-4321-8975-25a332444701",
   "metadata": {},
   "outputs": [],
   "source": [
    "# sample data\n",
    "np.random.seed(42)\n",
    "north_sales = np.random.normal(5000, 500, 30)\n",
    "south_sales = np.random.normal(5200, 600, 30)\n",
    "west_sales = np.random.normal(4800, 400, 30)"
   ]
  },
  {
   "cell_type": "code",
   "execution_count": 153,
   "id": "ace6903a-c285-4c1c-a75f-e12b261847f3",
   "metadata": {},
   "outputs": [],
   "source": [
    "stat, p_value = f_oneway(north_sales, south_sales, west_sales)"
   ]
  },
  {
   "cell_type": "code",
   "execution_count": 155,
   "id": "96670bd7-1653-4e32-a900-cd2a7841eb41",
   "metadata": {},
   "outputs": [
    {
     "name": "stdout",
     "output_type": "stream",
     "text": [
      "F-Statistic: 3.64, P-Value: 0.0304\n"
     ]
    }
   ],
   "source": [
    "print(f\"F-Statistic: {stat:.2f}, P-Value: {p_value:.4f}\")\n"
   ]
  },
  {
   "cell_type": "code",
   "execution_count": 157,
   "id": "955c1834-a700-40c9-8ce2-ec4e8c981c24",
   "metadata": {},
   "outputs": [
    {
     "name": "stdout",
     "output_type": "stream",
     "text": [
      "Reject the null hypothesis: At least one region has significantly different sales.\n"
     ]
    }
   ],
   "source": [
    "if p_value < 0.05:\n",
    "    print(\"Reject the null hypothesis: At least one region has significantly different sales.\")\n",
    "else:\n",
    "    print(\"Fail to reject the null hypothesis: No significant difference in sales across regions.\")"
   ]
  },
  {
   "cell_type": "code",
   "execution_count": null,
   "id": "7279fc4a-79e7-484c-8871-5f3425d7eaaa",
   "metadata": {},
   "outputs": [],
   "source": []
  }
 ],
 "metadata": {
  "kernelspec": {
   "display_name": "Python 3 (ipykernel)",
   "language": "python",
   "name": "python3"
  },
  "language_info": {
   "codemirror_mode": {
    "name": "ipython",
    "version": 3
   },
   "file_extension": ".py",
   "mimetype": "text/x-python",
   "name": "python",
   "nbconvert_exporter": "python",
   "pygments_lexer": "ipython3",
   "version": "3.12.7"
  }
 },
 "nbformat": 4,
 "nbformat_minor": 5
}
