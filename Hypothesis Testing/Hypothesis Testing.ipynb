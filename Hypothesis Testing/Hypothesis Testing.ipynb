{
 "cells": [
  {
   "cell_type": "markdown",
   "id": "51c62659-c683-4b1f-8c6b-ad14eddda2f2",
   "metadata": {},
   "source": [
    "Hypothesis Testing is a statistical method used to make inferences or decisions about a population based on sample data. It starts with a null hypothesis (H0),which represents a  default stance or no effect, and an alternative hypothesis (H1 or Ha), which represents what we aim to prove or expect to find. The process involves using sample data to determine whether to reject the null hypothesis in favor of the alternative hypothesis, basedon the likelihood of observing the sample data under the null hypothesis."
   ]
  },
  {
   "cell_type": "code",
   "execution_count": 85,
   "id": "27750393-f1b0-41f0-a8e8-7fa85eec36a9",
   "metadata": {},
   "outputs": [],
   "source": [
    "import pandas as pd\n",
    "from scipy.stats import ttest_ind"
   ]
  },
  {
   "cell_type": "code",
   "execution_count": 87,
   "id": "58b45350-b0d0-44b1-a633-e5750cd4abad",
   "metadata": {},
   "outputs": [],
   "source": [
    "df = pd.read_csv('website_ab_test.csv')"
   ]
  },
  {
   "cell_type": "code",
   "execution_count": 89,
   "id": "0f89d010-15bb-430e-8d28-0cdc42250f6f",
   "metadata": {},
   "outputs": [
    {
     "data": {
      "text/html": [
       "<div>\n",
       "<style scoped>\n",
       "    .dataframe tbody tr th:only-of-type {\n",
       "        vertical-align: middle;\n",
       "    }\n",
       "\n",
       "    .dataframe tbody tr th {\n",
       "        vertical-align: top;\n",
       "    }\n",
       "\n",
       "    .dataframe thead th {\n",
       "        text-align: right;\n",
       "    }\n",
       "</style>\n",
       "<table border=\"1\" class=\"dataframe\">\n",
       "  <thead>\n",
       "    <tr style=\"text-align: right;\">\n",
       "      <th></th>\n",
       "      <th>Theme</th>\n",
       "      <th>Click Through Rate</th>\n",
       "      <th>Conversion Rate</th>\n",
       "      <th>Bounce Rate</th>\n",
       "      <th>Scroll_Depth</th>\n",
       "      <th>Age</th>\n",
       "      <th>Location</th>\n",
       "      <th>Session_Duration</th>\n",
       "      <th>Purchases</th>\n",
       "      <th>Added_to_Cart</th>\n",
       "    </tr>\n",
       "  </thead>\n",
       "  <tbody>\n",
       "    <tr>\n",
       "      <th>0</th>\n",
       "      <td>Light Theme</td>\n",
       "      <td>0.054920</td>\n",
       "      <td>0.282367</td>\n",
       "      <td>0.405085</td>\n",
       "      <td>72.489458</td>\n",
       "      <td>25</td>\n",
       "      <td>Chennai</td>\n",
       "      <td>1535</td>\n",
       "      <td>No</td>\n",
       "      <td>Yes</td>\n",
       "    </tr>\n",
       "    <tr>\n",
       "      <th>1</th>\n",
       "      <td>Light Theme</td>\n",
       "      <td>0.113932</td>\n",
       "      <td>0.032973</td>\n",
       "      <td>0.732759</td>\n",
       "      <td>61.858568</td>\n",
       "      <td>19</td>\n",
       "      <td>Pune</td>\n",
       "      <td>303</td>\n",
       "      <td>No</td>\n",
       "      <td>Yes</td>\n",
       "    </tr>\n",
       "    <tr>\n",
       "      <th>2</th>\n",
       "      <td>Dark Theme</td>\n",
       "      <td>0.323352</td>\n",
       "      <td>0.178763</td>\n",
       "      <td>0.296543</td>\n",
       "      <td>45.737376</td>\n",
       "      <td>47</td>\n",
       "      <td>Chennai</td>\n",
       "      <td>563</td>\n",
       "      <td>Yes</td>\n",
       "      <td>Yes</td>\n",
       "    </tr>\n",
       "    <tr>\n",
       "      <th>3</th>\n",
       "      <td>Light Theme</td>\n",
       "      <td>0.485836</td>\n",
       "      <td>0.325225</td>\n",
       "      <td>0.245001</td>\n",
       "      <td>76.305298</td>\n",
       "      <td>58</td>\n",
       "      <td>Pune</td>\n",
       "      <td>385</td>\n",
       "      <td>Yes</td>\n",
       "      <td>No</td>\n",
       "    </tr>\n",
       "    <tr>\n",
       "      <th>4</th>\n",
       "      <td>Light Theme</td>\n",
       "      <td>0.034783</td>\n",
       "      <td>0.196766</td>\n",
       "      <td>0.765100</td>\n",
       "      <td>48.927407</td>\n",
       "      <td>25</td>\n",
       "      <td>New Delhi</td>\n",
       "      <td>1437</td>\n",
       "      <td>No</td>\n",
       "      <td>No</td>\n",
       "    </tr>\n",
       "  </tbody>\n",
       "</table>\n",
       "</div>"
      ],
      "text/plain": [
       "         Theme  Click Through Rate  Conversion Rate  Bounce Rate  \\\n",
       "0  Light Theme            0.054920         0.282367     0.405085   \n",
       "1  Light Theme            0.113932         0.032973     0.732759   \n",
       "2   Dark Theme            0.323352         0.178763     0.296543   \n",
       "3  Light Theme            0.485836         0.325225     0.245001   \n",
       "4  Light Theme            0.034783         0.196766     0.765100   \n",
       "\n",
       "   Scroll_Depth  Age   Location  Session_Duration Purchases Added_to_Cart  \n",
       "0     72.489458   25    Chennai              1535        No           Yes  \n",
       "1     61.858568   19       Pune               303        No           Yes  \n",
       "2     45.737376   47    Chennai               563       Yes           Yes  \n",
       "3     76.305298   58       Pune               385       Yes            No  \n",
       "4     48.927407   25  New Delhi              1437        No            No  "
      ]
     },
     "execution_count": 89,
     "metadata": {},
     "output_type": "execute_result"
    }
   ],
   "source": [
    "df.head()"
   ]
  },
  {
   "cell_type": "code",
   "execution_count": 91,
   "id": "f716e73a-74eb-4e44-8563-d9e68827eea8",
   "metadata": {},
   "outputs": [],
   "source": [
    "# Dataset Summary\n",
    "summary = {\n",
    "    'Number of Records': df.shape[0],\n",
    "    'Number of Columns': df.shape[1],\n",
    "    'Missing Values': df.isnull().sum(),\n",
    "    'Numerical Columns Summary': df.describe()\n",
    "\n",
    "    \n",
    "}"
   ]
  },
  {
   "cell_type": "code",
   "execution_count": 93,
   "id": "d9839416-7df8-4b23-b831-a621eefc7d27",
   "metadata": {},
   "outputs": [
    {
     "data": {
      "text/plain": [
       "{'Number of Records': 1000,\n",
       " 'Number of Columns': 10,\n",
       " 'Missing Values': Theme                 0\n",
       " Click Through Rate    0\n",
       " Conversion Rate       0\n",
       " Bounce Rate           0\n",
       " Scroll_Depth          0\n",
       " Age                   0\n",
       " Location              0\n",
       " Session_Duration      0\n",
       " Purchases             0\n",
       " Added_to_Cart         0\n",
       " dtype: int64,\n",
       " 'Numerical Columns Summary':        Click Through Rate  Conversion Rate  Bounce Rate  Scroll_Depth  \\\n",
       " count         1000.000000      1000.000000  1000.000000   1000.000000   \n",
       " mean             0.256048         0.253312     0.505758     50.319494   \n",
       " std              0.139265         0.139092     0.172195     16.895269   \n",
       " min              0.010767         0.010881     0.200720     20.011738   \n",
       " 25%              0.140794         0.131564     0.353609     35.655167   \n",
       " 50%              0.253715         0.252823     0.514049     51.130712   \n",
       " 75%              0.370674         0.373040     0.648557     64.666258   \n",
       " max              0.499989         0.498916     0.799658     79.997108   \n",
       " \n",
       "                Age  Session_Duration  \n",
       " count  1000.000000       1000.000000  \n",
       " mean     41.528000        924.999000  \n",
       " std      14.114334        508.231723  \n",
       " min      18.000000         38.000000  \n",
       " 25%      29.000000        466.500000  \n",
       " 50%      42.000000        931.000000  \n",
       " 75%      54.000000       1375.250000  \n",
       " max      65.000000       1797.000000  }"
      ]
     },
     "execution_count": 93,
     "metadata": {},
     "output_type": "execute_result"
    }
   ],
   "source": [
    "summary"
   ]
  },
  {
   "cell_type": "code",
   "execution_count": 95,
   "id": "5dd2292f-9e20-44e4-8a89-796a422cf80d",
   "metadata": {},
   "outputs": [
    {
     "name": "stdout",
     "output_type": "stream",
     "text": [
      "<class 'pandas.core.frame.DataFrame'>\n",
      "RangeIndex: 1000 entries, 0 to 999\n",
      "Data columns (total 10 columns):\n",
      " #   Column              Non-Null Count  Dtype  \n",
      "---  ------              --------------  -----  \n",
      " 0   Theme               1000 non-null   object \n",
      " 1   Click Through Rate  1000 non-null   float64\n",
      " 2   Conversion Rate     1000 non-null   float64\n",
      " 3   Bounce Rate         1000 non-null   float64\n",
      " 4   Scroll_Depth        1000 non-null   float64\n",
      " 5   Age                 1000 non-null   int64  \n",
      " 6   Location            1000 non-null   object \n",
      " 7   Session_Duration    1000 non-null   int64  \n",
      " 8   Purchases           1000 non-null   object \n",
      " 9   Added_to_Cart       1000 non-null   object \n",
      "dtypes: float64(4), int64(2), object(4)\n",
      "memory usage: 78.3+ KB\n"
     ]
    }
   ],
   "source": [
    "df.info()"
   ]
  },
  {
   "cell_type": "code",
   "execution_count": 97,
   "id": "2e2ef550-e093-49c2-996c-e46e310011a8",
   "metadata": {},
   "outputs": [],
   "source": [
    "# grouping data by theme and calculating mean values for the metrics\n",
    "theme_performance = df.groupby('Theme').mean(numeric_only= True)"
   ]
  },
  {
   "cell_type": "code",
   "execution_count": 99,
   "id": "c2e8d06d-d522-496f-a173-0f4dd68aebb6",
   "metadata": {},
   "outputs": [],
   "source": [
    "# sorting the data by conversion rate for a better comparison\n",
    "theme_performance_sorted = theme_performance.sort_values(by = 'Conversion Rate')"
   ]
  },
  {
   "cell_type": "code",
   "execution_count": 101,
   "id": "4767f491-d306-4347-9f18-25ab80edb767",
   "metadata": {},
   "outputs": [
    {
     "data": {
      "text/html": [
       "<div>\n",
       "<style scoped>\n",
       "    .dataframe tbody tr th:only-of-type {\n",
       "        vertical-align: middle;\n",
       "    }\n",
       "\n",
       "    .dataframe tbody tr th {\n",
       "        vertical-align: top;\n",
       "    }\n",
       "\n",
       "    .dataframe thead th {\n",
       "        text-align: right;\n",
       "    }\n",
       "</style>\n",
       "<table border=\"1\" class=\"dataframe\">\n",
       "  <thead>\n",
       "    <tr style=\"text-align: right;\">\n",
       "      <th></th>\n",
       "      <th>Click Through Rate</th>\n",
       "      <th>Conversion Rate</th>\n",
       "      <th>Bounce Rate</th>\n",
       "      <th>Scroll_Depth</th>\n",
       "      <th>Age</th>\n",
       "      <th>Session_Duration</th>\n",
       "    </tr>\n",
       "    <tr>\n",
       "      <th>Theme</th>\n",
       "      <th></th>\n",
       "      <th></th>\n",
       "      <th></th>\n",
       "      <th></th>\n",
       "      <th></th>\n",
       "      <th></th>\n",
       "    </tr>\n",
       "  </thead>\n",
       "  <tbody>\n",
       "    <tr>\n",
       "      <th>Dark Theme</th>\n",
       "      <td>0.264501</td>\n",
       "      <td>0.251282</td>\n",
       "      <td>0.512115</td>\n",
       "      <td>49.926404</td>\n",
       "      <td>41.332685</td>\n",
       "      <td>919.482490</td>\n",
       "    </tr>\n",
       "    <tr>\n",
       "      <th>Light Theme</th>\n",
       "      <td>0.247109</td>\n",
       "      <td>0.255459</td>\n",
       "      <td>0.499035</td>\n",
       "      <td>50.735232</td>\n",
       "      <td>41.734568</td>\n",
       "      <td>930.833333</td>\n",
       "    </tr>\n",
       "  </tbody>\n",
       "</table>\n",
       "</div>"
      ],
      "text/plain": [
       "             Click Through Rate  Conversion Rate  Bounce Rate  Scroll_Depth  \\\n",
       "Theme                                                                         \n",
       "Dark Theme             0.264501         0.251282     0.512115     49.926404   \n",
       "Light Theme            0.247109         0.255459     0.499035     50.735232   \n",
       "\n",
       "                   Age  Session_Duration  \n",
       "Theme                                     \n",
       "Dark Theme   41.332685        919.482490  \n",
       "Light Theme  41.734568        930.833333  "
      ]
     },
     "execution_count": 101,
     "metadata": {},
     "output_type": "execute_result"
    }
   ],
   "source": [
    "theme_performance_sorted"
   ]
  },
  {
   "cell_type": "markdown",
   "id": "12905ffb-5a92-42f6-9008-2825455f80fc",
   "metadata": {},
   "source": [
    "### Getting started with hypothesis Testing"
   ]
  },
  {
   "cell_type": "code",
   "execution_count": 116,
   "id": "8e4f9417-2352-49c1-8d7c-14085d004529",
   "metadata": {},
   "outputs": [],
   "source": [
    "# extracting conversion rates for both themes \n",
    "conversion_rates_light_ = df[df['Theme'] == 'Light Theme']['Conversion Rate']\n",
    "conversion_rates_dark = df[df['Theme'] == 'Dark Theme']['Conversion Rate']"
   ]
  },
  {
   "cell_type": "code",
   "execution_count": 118,
   "id": "d42604e7-8ac8-45ba-9001-8ae68c9fb094",
   "metadata": {},
   "outputs": [],
   "source": [
    "# performing a two - sample t-test\n",
    "t_stat, p_value = ttest_ind(conversion_rates_light_, conversion_rates_dark, equal_var= False)"
   ]
  },
  {
   "cell_type": "code",
   "execution_count": 120,
   "id": "6283f516-0a39-4363-95bb-e7408a9a6028",
   "metadata": {},
   "outputs": [
    {
     "data": {
      "text/plain": [
       "(0.4748494462782632, 0.6349982678451778)"
      ]
     },
     "execution_count": 120,
     "metadata": {},
     "output_type": "execute_result"
    }
   ],
   "source": [
    "t_stat, p_value"
   ]
  },
  {
   "cell_type": "code",
   "execution_count": 124,
   "id": "9dfe0623-91f4-44aa-9f20-e1287c2851a5",
   "metadata": {},
   "outputs": [],
   "source": [
    "# extracting click through rates for both themes\n",
    "click_through_rates_light = df[df['Theme'] == 'Light Theme']['Click Through Rate']\n",
    "click_through_rates_dark = df[df['Theme'] == 'Dark Theme']['Click Through Rate']"
   ]
  },
  {
   "cell_type": "code",
   "execution_count": 130,
   "id": "8984d618-5d50-4091-8fda-914a18aecb8e",
   "metadata": {},
   "outputs": [],
   "source": [
    "# performing a two-sample t-test\n",
    "t_stat_ctr, p_value_ctr = ttest_ind(click_through_rates_light, click_through_rates_dark, equal_var= False)"
   ]
  },
  {
   "cell_type": "code",
   "execution_count": 136,
   "id": "6b3b2b42-e404-48ba-9e25-49341ee747cd",
   "metadata": {},
   "outputs": [
    {
     "data": {
      "text/plain": [
       "(-1.9781708664172253, 0.04818435371010704)"
      ]
     },
     "execution_count": 136,
     "metadata": {},
     "output_type": "execute_result"
    }
   ],
   "source": [
    "t_stat_ctr, p_value_ctr"
   ]
  },
  {
   "cell_type": "code",
   "execution_count": 138,
   "id": "59c41b2c-b5bb-432f-b9d1-447556e5ec91",
   "metadata": {},
   "outputs": [],
   "source": [
    "# extracting bounce rates for both themes\n",
    "bounce_rates_light = df[df['Theme'] == 'Light Theme']['Bounce Rate']\n",
    "bounce_rates_dark = df[df['Theme'] == 'Dark Theme']['Bounce Rate']"
   ]
  },
  {
   "cell_type": "code",
   "execution_count": 140,
   "id": "4308e911-ad6b-424b-904b-1bc5689e296f",
   "metadata": {},
   "outputs": [],
   "source": [
    "t_stat_br, p_values_br = ttest_ind(bounce_rates_light, bounce_rates_dark, equal_var= False)"
   ]
  },
  {
   "cell_type": "code",
   "execution_count": 142,
   "id": "5dfc65b9-65f9-430e-a6d0-8bd689f5524d",
   "metadata": {},
   "outputs": [
    {
     "data": {
      "text/plain": [
       "(-1.2018883310494073, 0.229692077505148)"
      ]
     },
     "execution_count": 142,
     "metadata": {},
     "output_type": "execute_result"
    }
   ],
   "source": [
    "t_stat_br, p_values_br"
   ]
  },
  {
   "cell_type": "code",
   "execution_count": 144,
   "id": "1acbd8fe-b183-4720-89a6-efe52ecb11e0",
   "metadata": {},
   "outputs": [],
   "source": [
    "# extracting scroll depth for both themes\n",
    "scroll_depth_light = df[df['Theme'] == 'Light Theme']['Scroll_Depth'] \n",
    "scroll_depth_dark = df[df['Theme'] == 'Dark Theme']['Scroll_Depth']"
   ]
  },
  {
   "cell_type": "code",
   "execution_count": 146,
   "id": "d4a7e4d1-5b02-40b4-b7be-5a05adc3f0a7",
   "metadata": {},
   "outputs": [],
   "source": [
    "t_stat_sd, p_value_sd = ttest_ind(scroll_depth_light, scroll_depth_dark, equal_var= False)"
   ]
  },
  {
   "cell_type": "code",
   "execution_count": 148,
   "id": "28dfe06b-2038-4a8c-a6fa-11774a13e61d",
   "metadata": {},
   "outputs": [
    {
     "data": {
      "text/plain": [
       "(0.7562277864140986, 0.4496919249484911)"
      ]
     },
     "execution_count": 148,
     "metadata": {},
     "output_type": "execute_result"
    }
   ],
   "source": [
    "t_stat_sd, p_value_sd"
   ]
  },
  {
   "cell_type": "code",
   "execution_count": 160,
   "id": "c875190f-6e67-4ef4-b382-6c7ac1d72002",
   "metadata": {},
   "outputs": [],
   "source": [
    "# creating a comparison table\n",
    "comparison_table = pd.DataFrame({\n",
    "    'Metric': ['CTR','CR','BR','SD'],\n",
    "    'T-stat':[t_stat_ctr,t_stat, t_stat_br, t_stat_sd],\n",
    "    'P-Val':[p_value_ctr,p_value,p_values_br, p_value_sd]\n",
    "    \n",
    "})"
   ]
  },
  {
   "cell_type": "code",
   "execution_count": 162,
   "id": "62ac27c4-317e-4513-b8c2-4894633cb71a",
   "metadata": {},
   "outputs": [
    {
     "data": {
      "text/html": [
       "<div>\n",
       "<style scoped>\n",
       "    .dataframe tbody tr th:only-of-type {\n",
       "        vertical-align: middle;\n",
       "    }\n",
       "\n",
       "    .dataframe tbody tr th {\n",
       "        vertical-align: top;\n",
       "    }\n",
       "\n",
       "    .dataframe thead th {\n",
       "        text-align: right;\n",
       "    }\n",
       "</style>\n",
       "<table border=\"1\" class=\"dataframe\">\n",
       "  <thead>\n",
       "    <tr style=\"text-align: right;\">\n",
       "      <th></th>\n",
       "      <th>Metric</th>\n",
       "      <th>T-stat</th>\n",
       "      <th>P-Val</th>\n",
       "    </tr>\n",
       "  </thead>\n",
       "  <tbody>\n",
       "    <tr>\n",
       "      <th>0</th>\n",
       "      <td>CTR</td>\n",
       "      <td>-1.978171</td>\n",
       "      <td>0.048184</td>\n",
       "    </tr>\n",
       "    <tr>\n",
       "      <th>1</th>\n",
       "      <td>CR</td>\n",
       "      <td>-1.978171</td>\n",
       "      <td>0.048184</td>\n",
       "    </tr>\n",
       "    <tr>\n",
       "      <th>2</th>\n",
       "      <td>BR</td>\n",
       "      <td>-1.201888</td>\n",
       "      <td>0.229692</td>\n",
       "    </tr>\n",
       "    <tr>\n",
       "      <th>3</th>\n",
       "      <td>SD</td>\n",
       "      <td>0.756228</td>\n",
       "      <td>0.449692</td>\n",
       "    </tr>\n",
       "  </tbody>\n",
       "</table>\n",
       "</div>"
      ],
      "text/plain": [
       "  Metric    T-stat     P-Val\n",
       "0    CTR -1.978171  0.048184\n",
       "1     CR -1.978171  0.048184\n",
       "2     BR -1.201888  0.229692\n",
       "3     SD  0.756228  0.449692"
      ]
     },
     "execution_count": 162,
     "metadata": {},
     "output_type": "execute_result"
    }
   ],
   "source": [
    "comparison_table"
   ]
  },
  {
   "cell_type": "code",
   "execution_count": null,
   "id": "a8ec9942-42e9-428f-95fe-6ef186bdb0d8",
   "metadata": {},
   "outputs": [],
   "source": []
  }
 ],
 "metadata": {
  "kernelspec": {
   "display_name": "Python 3 (ipykernel)",
   "language": "python",
   "name": "python3"
  },
  "language_info": {
   "codemirror_mode": {
    "name": "ipython",
    "version": 3
   },
   "file_extension": ".py",
   "mimetype": "text/x-python",
   "name": "python",
   "nbconvert_exporter": "python",
   "pygments_lexer": "ipython3",
   "version": "3.12.7"
  }
 },
 "nbformat": 4,
 "nbformat_minor": 5
}
